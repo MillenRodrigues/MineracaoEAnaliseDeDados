{
  "nbformat": 4,
  "nbformat_minor": 0,
  "metadata": {
    "colab": {
      "name": "BIG_A4_ClassificacaoDiscussao.ipynb",
      "provenance": [],
      "include_colab_link": true
    },
    "kernelspec": {
      "name": "python3",
      "display_name": "Python 3"
    }
  },
  "cells": [
    {
      "cell_type": "markdown",
      "metadata": {
        "id": "view-in-github",
        "colab_type": "text"
      },
      "source": [
        "<a href=\"https://colab.research.google.com/github/MillenRodrigues/MineracaoEAnaliseDeDados/blob/main/BIG_A4_ClassificacaoDiscussao.ipynb\" target=\"_parent\"><img src=\"https://colab.research.google.com/assets/colab-badge.svg\" alt=\"Open In Colab\"/></a>"
      ]
    },
    {
      "cell_type": "markdown",
      "metadata": {
        "id": "J3LMBfpeHTwb"
      },
      "source": [
        "<head>\n",
        "  <meta name=\"author\" content=\"Rogério de Oliveira\">\n",
        "  <meta institution=\"author\" content=\"Universidade Presbiteriana Mackenzie\">\n",
        "</head>\n",
        "\n",
        "<img src=\"http://meusite.mackenzie.br/rogerio/mackenzie_logo/UPM.2_horizontal_vermelho.jpg\" width=300, align=\"right\">\n",
        "<!-- <h1 align=left><font size = 6, style=\"color:rgb(200,0,0)\"> optional title </font></h1> -->\n"
      ]
    },
    {
      "cell_type": "markdown",
      "source": [
        "Millen Tavares Rodrigues\n",
        "\n",
        "Tia: 92300073\n",
        "\n",
        "Disponível em [github](https://github.com/MillenRodrigues/MineracaoEAnaliseDeDados/blob/main/BIG_A4_ClassificacaoDiscussao.ipynb)"
      ],
      "metadata": {
        "id": "61OR1VliiOqB"
      }
    },
    {
      "cell_type": "markdown",
      "metadata": {
        "id": "zQX8WQPeHTwc"
      },
      "source": [
        "# **Tarefa de Aprofundamento 4**\n",
        "## Discussão do CASO: Controle de Qualidade de Peças de uma Indústria\n",
        "\n",
        "<br>\n",
        "<br>\n",
        "<br>\n",
        "\n",
        "Com base na atividade *Tarefa de Aprofundamento 3*, **Pesquise e Discuta apenas uma** das perguntas a seguir.\n"
      ]
    },
    {
      "cell_type": "markdown",
      "metadata": {
        "id": "nGZH-j05q8WZ"
      },
      "source": [
        "### 1. Na Tarefa de Aprofundamento 3 empregamos apenas a Acuracidade dos modelos como critério de seleção do melhor modelo. Dê um exemplo da limitação dessa abordagem e que solução você sugeriria para contornar essa limitação."
      ]
    },
    {
      "cell_type": "markdown",
      "metadata": {
        "id": "Oar--2gn9EJ0"
      },
      "source": [
        "Uma limitação é em situações onde a base é desbalanceada, um exemplo seria uma base de casos para detecção de fraude, onde temos inumeras transações e apenas alguns poucos casos de fraudes, uma boa solução seria empregar outra métrica como o score F1 ou AUC-ROC."
      ]
    },
    {
      "cell_type": "markdown",
      "metadata": {
        "id": "p32U1tt_9XBd"
      },
      "source": [
        "### 2. Na Tarefa de Aprofundamento 3 você encontra um modelo de Árvore de Decisão métricas de desempenho do modelo todas muito superiores ao modelo de Regressão Logística e KVizinhos Mais Próximos. Um colega então faz a seguinte afirmação *Modelos de Árvores de Decisão são mais robustos e **sempre** fornecem resultados melhores que modelos mais simples em um mesmo conjunto de dados*. Esse colega está correto na sua afirmação? Como você responderia a ele?"
      ]
    },
    {
      "cell_type": "markdown",
      "metadata": {
        "id": "-tdb6x3s9XBd"
      },
      "source": [
        "Não necessáriamente, a escolha entre os tipos de modelo depende do contexto do problema, árvores podem ter uma tendência a overfitting, além disso regressão apresenta uma facilidade maior de explicabilidade do modelo, se isso for um ponto relevante para a aplicação."
      ]
    },
    {
      "cell_type": "markdown",
      "metadata": {
        "id": "xR8J3aMB-TjC"
      },
      "source": [
        "## Referências"
      ]
    },
    {
      "cell_type": "markdown",
      "metadata": {
        "id": "vxyPgZ60-TjC"
      },
      "source": [
        "[Como Calcular as Métricas de Validação dos Modelos de Machine Learning em Python](https://www.flai.com.br/juscudilio/como-calcular-as-metricas-de-validacao-dos-modelos-de-machine-learning-em-python/)\n",
        "\n",
        "[Métricas de Avaliação: acurácia, precisão, recall… quais as diferenças?](https://vitorborbarodrigues.medium.com/m%C3%A9tricas-de-avalia%C3%A7%C3%A3o-acur%C3%A1cia-precis%C3%A3o-recall-quais-as-diferen%C3%A7as-c8f05e0a513c)\n",
        "\n",
        "[Comparando Classificadores: Árvores de Decisão, K-NN e Naive Bayes](https://www.insightlab.ufc.br/comparando-classificadores-arvores-de-decisao-k-nn-e-naive-bayes/)"
      ]
    }
  ]
}