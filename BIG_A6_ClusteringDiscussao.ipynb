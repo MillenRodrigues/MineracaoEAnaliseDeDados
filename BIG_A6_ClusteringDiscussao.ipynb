{
  "nbformat": 4,
  "nbformat_minor": 0,
  "metadata": {
    "colab": {
      "name": "BIG_A6_ClusteringDiscussao.ipynb",
      "provenance": [],
      "include_colab_link": true
    },
    "kernelspec": {
      "name": "python3",
      "display_name": "Python 3"
    }
  },
  "cells": [
    {
      "cell_type": "markdown",
      "metadata": {
        "id": "view-in-github",
        "colab_type": "text"
      },
      "source": [
        "<a href=\"https://colab.research.google.com/github/MillenRodrigues/MineracaoEAnaliseDeDados/blob/main/BIG_A6_ClusteringDiscussao.ipynb\" target=\"_parent\"><img src=\"https://colab.research.google.com/assets/colab-badge.svg\" alt=\"Open In Colab\"/></a>"
      ]
    },
    {
      "cell_type": "markdown",
      "metadata": {
        "id": "J3LMBfpeHTwb"
      },
      "source": [
        "<head>\n",
        "  <meta name=\"author\" content=\"Rogério de Oliveira\">\n",
        "  <meta institution=\"author\" content=\"Universidade Presbiteriana Mackenzie\">\n",
        "</head>\n",
        "\n",
        "<img src=\"http://meusite.mackenzie.br/rogerio/mackenzie_logo/UPM.2_horizontal_vermelho.jpg\" width=300, align=\"right\">\n",
        "<!-- <h1 align=left><font size = 6, style=\"color:rgb(200,0,0)\"> optional title </font></h1> -->\n"
      ]
    },
    {
      "cell_type": "markdown",
      "source": [
        "Millen Tavares Rodrigues\n",
        "\n",
        "Tia: 92300073\n",
        "\n",
        "Disponível em [github](https://github.com/MillenRodrigues/MineracaoEAnaliseDeDados/blob/main/BIG_A6_ClusteringDiscussao.ipynb)"
      ],
      "metadata": {
        "id": "WYxWu7TGRUKx"
      }
    },
    {
      "cell_type": "markdown",
      "metadata": {
        "id": "zQX8WQPeHTwc"
      },
      "source": [
        "# **Tarefa de Aprofundamento 6**\n",
        "## CASO: Clustering, Segmentando Países pela Força de Trabalho\n",
        "---\n",
        "\n",
        "<br>\n",
        "<br>\n",
        "<br>\n",
        "\n",
        "Com base na atividade *Tarefa de Aprofundamento 5*, **Pesquise e Discuta apenas uma** das perguntas a seguir.\n"
      ]
    },
    {
      "cell_type": "markdown",
      "metadata": {
        "id": "nGZH-j05q8WZ"
      },
      "source": [
        "### 1. Pesquise outros modelos de clusterização e exemplifique uma situação em que um desses modelos pesquisados apresenta resultados melhores que os modelos de clusterização hierárquica e kmédias.\n",
        "\n",
        "<small>\n",
        "Talvez você queira aplicar esse outro modelo aos dados da Tarefa 5 e compartilhar com os colegas. Mas isso é opcional."
      ]
    },
    {
      "cell_type": "markdown",
      "metadata": {
        "id": "Oar--2gn9EJ0"
      },
      "source": [
        "Os modelos de densidade consideram a densidade das regiões do gráfico para avaliar a possibilidade de criar grupos com similares. O DBScan, por exemplo, é um famoso exemplo.\n",
        "\n",
        "O agrupamento DBScan lida de forma eficiente com outliers e conjuntos de dados ruidosos."
      ]
    },
    {
      "cell_type": "markdown",
      "metadata": {
        "id": "p32U1tt_9XBd"
      },
      "source": [
        "### 2. A clusterização é bastante empregada para a agrupamento de documentos como emails, páginas de notícias etc. Pesquise qual a métrica de similaridade (distância) normalmente empregada na clusterização de documentos e explique por quê."
      ]
    },
    {
      "cell_type": "markdown",
      "metadata": {
        "id": "-tdb6x3s9XBd"
      },
      "source": [
        "Na clusterização de documentos, uma métrica de similaridade comumente empregada é a similaridade cosseno que é particularmente adequada a modelos linguisticos que se utilizam de uma representação vetorial do textos."
      ]
    },
    {
      "cell_type": "markdown",
      "metadata": {
        "id": "xR8J3aMB-TjC"
      },
      "source": [
        "## Referências"
      ]
    },
    {
      "cell_type": "markdown",
      "metadata": {
        "id": "vxyPgZ60-TjC"
      },
      "source": [
        "[CLUSTERIZAÇÃO DE DADOS: ENTENDA O CONCEITO E FORMAS DE USO](https://blog.somostera.com/data-science/clusteriza%C3%A7%C3%A3o-de-dados)\n",
        "\n",
        "[DIFERENÇA ENTRE K-MEANS E DBSCAN CLUSTERING](https://acervolima.com/diferenca-entre-k-means-e-dbscan-clustering/)\n",
        "\n",
        "[Measurement of clustering effectiveness for document collections](https://link.springer.com/article/10.1007/s10791-021-09401-8)"
      ]
    }
  ]
}